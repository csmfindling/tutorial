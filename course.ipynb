{
 "cells": [
  {
   "cell_type": "code",
   "execution_count": 3,
   "metadata": {},
   "outputs": [],
   "source": [
    "import numpy as np\n",
    "import pickle, sys, os, glob, scipy\n",
    "from scipy.optimize import minimize\n",
    "from scipy.stats import norm\n",
    "from itertools import accumulate\n",
    "from matplotlib import pyplot as plt"
   ]
  },
  {
   "cell_type": "code",
   "execution_count": 4,
   "metadata": {},
   "outputs": [
    {
     "ename": "IndexError",
     "evalue": "index 5 is out of bounds for axis 0 with size 0",
     "output_type": "error",
     "traceback": [
      "\u001b[0;31m---------------------------------------------------------------------------\u001b[0m",
      "\u001b[0;31mIndexError\u001b[0m                                Traceback (most recent call last)",
      "\u001b[0;32m<ipython-input-4-b1a4a5ceda69>\u001b[0m in \u001b[0;36m<module>\u001b[0;34m\u001b[0m\n\u001b[1;32m      3\u001b[0m \u001b[0msubject_indexes\u001b[0m \u001b[0;34m=\u001b[0m \u001b[0mnp\u001b[0m\u001b[0;34m.\u001b[0m\u001b[0marray\u001b[0m\u001b[0;34m(\u001b[0m\u001b[0;34m[\u001b[0m\u001b[0mnp\u001b[0m\u001b[0;34m.\u001b[0m\u001b[0mall\u001b[0m\u001b[0;34m(\u001b[0m\u001b[0;34m[\u001b[0m\u001b[0;34m'data/td_volnoise_subj_{2}_run_{0}_session_{1}.pkl'\u001b[0m\u001b[0;34m.\u001b[0m\u001b[0mformat\u001b[0m\u001b[0;34m(\u001b[0m\u001b[0mi\u001b[0m\u001b[0;34m,\u001b[0m\u001b[0mj\u001b[0m\u001b[0;34m,\u001b[0m\u001b[0mk\u001b[0m\u001b[0;34m)\u001b[0m \u001b[0;32min\u001b[0m \u001b[0mfiles\u001b[0m \u001b[0;32mfor\u001b[0m \u001b[0mi\u001b[0m \u001b[0;32min\u001b[0m \u001b[0mrange\u001b[0m\u001b[0;34m(\u001b[0m\u001b[0;36m3\u001b[0m\u001b[0;34m)\u001b[0m \u001b[0;32mfor\u001b[0m \u001b[0mj\u001b[0m \u001b[0;32min\u001b[0m \u001b[0mrange\u001b[0m\u001b[0;34m(\u001b[0m\u001b[0;36m2\u001b[0m\u001b[0;34m)\u001b[0m\u001b[0;34m]\u001b[0m\u001b[0;34m)\u001b[0m \u001b[0;34m*\u001b[0m \u001b[0mk\u001b[0m \u001b[0;32mfor\u001b[0m \u001b[0mk\u001b[0m \u001b[0;32min\u001b[0m \u001b[0mrange\u001b[0m\u001b[0;34m(\u001b[0m\u001b[0;36m1\u001b[0m\u001b[0;34m,\u001b[0m\u001b[0mnb_subj\u001b[0m \u001b[0;34m+\u001b[0m \u001b[0;36m1\u001b[0m\u001b[0;34m)\u001b[0m\u001b[0;34m]\u001b[0m\u001b[0;34m)\u001b[0m\u001b[0;34m\u001b[0m\u001b[0;34m\u001b[0m\u001b[0m\n\u001b[1;32m      4\u001b[0m \u001b[0msubject_indexes\u001b[0m \u001b[0;34m=\u001b[0m \u001b[0msubject_indexes\u001b[0m\u001b[0;34m[\u001b[0m\u001b[0msubject_indexes\u001b[0m \u001b[0;34m!=\u001b[0m \u001b[0;36m0\u001b[0m\u001b[0;34m]\u001b[0m\u001b[0;34m\u001b[0m\u001b[0;34m\u001b[0m\u001b[0m\n\u001b[0;32m----> 5\u001b[0;31m \u001b[0msubject_indexes\u001b[0m \u001b[0;34m=\u001b[0m \u001b[0mnp\u001b[0m\u001b[0;34m.\u001b[0m\u001b[0mdelete\u001b[0m\u001b[0;34m(\u001b[0m\u001b[0msubject_indexes\u001b[0m\u001b[0;34m,\u001b[0m \u001b[0;36m5\u001b[0m\u001b[0;34m)\u001b[0m\u001b[0;34m\u001b[0m\u001b[0;34m\u001b[0m\u001b[0m\n\u001b[0m\u001b[1;32m      6\u001b[0m \u001b[0mnb_subj\u001b[0m         \u001b[0;34m=\u001b[0m \u001b[0mlen\u001b[0m\u001b[0;34m(\u001b[0m\u001b[0msubject_indexes\u001b[0m\u001b[0;34m)\u001b[0m\u001b[0;34m\u001b[0m\u001b[0;34m\u001b[0m\u001b[0m\n",
      "\u001b[0;32m<__array_function__ internals>\u001b[0m in \u001b[0;36mdelete\u001b[0;34m(*args, **kwargs)\u001b[0m\n",
      "\u001b[0;32m~/anaconda3/envs/iblenv/lib/python3.8/site-packages/numpy/lib/function_base.py\u001b[0m in \u001b[0;36mdelete\u001b[0;34m(arr, obj, axis)\u001b[0m\n\u001b[1;32m   4375\u001b[0m         \u001b[0;31m# optimization for a single value\u001b[0m\u001b[0;34m\u001b[0m\u001b[0;34m\u001b[0m\u001b[0;34m\u001b[0m\u001b[0m\n\u001b[1;32m   4376\u001b[0m         \u001b[0;32mif\u001b[0m \u001b[0;34m(\u001b[0m\u001b[0mobj\u001b[0m \u001b[0;34m<\u001b[0m \u001b[0;34m-\u001b[0m\u001b[0mN\u001b[0m \u001b[0;32mor\u001b[0m \u001b[0mobj\u001b[0m \u001b[0;34m>=\u001b[0m \u001b[0mN\u001b[0m\u001b[0;34m)\u001b[0m\u001b[0;34m:\u001b[0m\u001b[0;34m\u001b[0m\u001b[0;34m\u001b[0m\u001b[0m\n\u001b[0;32m-> 4377\u001b[0;31m             raise IndexError(\n\u001b[0m\u001b[1;32m   4378\u001b[0m                 \u001b[0;34m\"index %i is out of bounds for axis %i with \"\u001b[0m\u001b[0;34m\u001b[0m\u001b[0;34m\u001b[0m\u001b[0m\n\u001b[1;32m   4379\u001b[0m                 \"size %i\" % (obj, axis, N))\n",
      "\u001b[0;31mIndexError\u001b[0m: index 5 is out of bounds for axis 0 with size 0"
     ]
    }
   ],
   "source": [
    "nb_subj, nb_sessions, nb_runs = 25, 2, 3\n",
    "files           = glob.glob('data/td_volnoise_subj_*')\n",
    "subject_indexes = np.array([np.all(['data/td_volnoise_subj_{2}_run_{0}_session_{1}.pkl'.format(i,j,k) in files for i in range(3) for j in range(2)]) * k for k in range(1,nb_subj + 1)])\n",
    "subject_indexes = subject_indexes[subject_indexes != 0]\n",
    "subject_indexes = np.delete(subject_indexes, 5)\n",
    "nb_subj         = len(subject_indexes)"
   ]
  },
  {
   "cell_type": "code",
   "execution_count": 290,
   "metadata": {},
   "outputs": [],
   "source": [
    "##Fitting"
   ]
  },
  {
   "cell_type": "code",
   "execution_count": 291,
   "metadata": {},
   "outputs": [],
   "source": [
    "idx_subj = 12\n",
    "idx_session, idx_run = 0, 0\n",
    "data_path = 'data/td_volnoise_subj_{}_run_{}_session_{}.pkl'.format(subject_indexes[idx_subj], idx_run, idx_session)\n",
    "data = pickle.load(open(data_path, 'rb'), encoding=\"latin1\")\n",
    "actions = np.array(data['A_chosen'][:100], dtype=np.object); actions[actions==0] = \"A\"; actions[actions==1] = \"B\"\n",
    "rewards = data['reward'][:100]"
   ]
  },
  {
   "cell_type": "code",
   "execution_count": 292,
   "metadata": {},
   "outputs": [],
   "source": [
    "def negLogLikelihood_m1(beta, *args):\n",
    "    if len(args) != 2: assert(False), 'InputError'\n",
    "    actions, rewards = args\n",
    "    countA = np.cumsum((actions == \"A\") * rewards + (actions == \"B\") * (1 - rewards))\n",
    "    countB = np.cumsum((actions == \"B\") * rewards + (actions == \"A\") * (1 - rewards))\n",
    "    counts = np.vstack((countA, countB))\n",
    "    counts_chosen = counts[(actions==\"B\")*1, np.arange(len(actions))]\n",
    "    counts_unchosen = counts[(actions==\"A\")*1, np.arange(len(actions))]\n",
    "    return -np.sum(np.log(np.exp(beta * counts_chosen)/(np.exp(beta * counts_chosen) + np.exp(beta * counts_unchosen))))\n",
    "\n",
    "def negLogLikelihood_m2(parameters, *args):\n",
    "    if len(args) != 2: assert(False), 'InputError'\n",
    "    actions, rewards = args        \n",
    "    alpha, beta = parameters\n",
    "    correctA = np.concatenate((np.array([0.5]), (actions == \"A\") * rewards + (actions == \"B\") * (1 - rewards)))\n",
    "    correctB = np.concatenate((np.array([0.5]), (actions == \"B\") * rewards + (actions == \"A\") * (1 - rewards)))\n",
    "    pA = np.array(list(accumulate(correctA, lambda x, y: (1 - alpha) * x + alpha * y)))[:-1]\n",
    "    pB = np.array(list(accumulate(correctB, lambda x, y: (1 - alpha) * x + alpha * y)))[:-1]\n",
    "    probabilities = np.vstack((pA, pB))\n",
    "    prob_chosen = probabilities[(actions==\"B\")*1, np.arange(len(actions))]\n",
    "    prob_unchosen = probabilities[(actions==\"A\")*1, np.arange(len(actions))]\n",
    "    return -np.sum(np.log(np.exp(beta * prob_chosen)/(np.exp(beta * prob_chosen) + np.exp(beta * prob_unchosen))))"
   ]
  },
  {
   "cell_type": "code",
   "execution_count": 293,
   "metadata": {},
   "outputs": [
    {
     "name": "stdout",
     "output_type": "stream",
     "text": [
      "Model M1\n",
      "ML parameters are : [0.04159851]\n",
      "ML is : -67.33884977150736\n",
      "\n",
      "Model M2\n",
      "ML parameters are : [0.52523842 2.20563001]\n",
      "ML is : -46.777493927847146\n"
     ]
    }
   ],
   "source": [
    "res = minimize(negLogLikelihood_m1, [1], args=(actions, rewards), method='Nelder-Mead', tol=1e-6)\n",
    "beta_1 = res.x\n",
    "print('Model M1')\n",
    "print('ML parameters are : {}'.format(res.x))\n",
    "print('ML is : {}'.format(-res.fun))\n",
    "print('')\n",
    "res = minimize(negLogLikelihood_m2, [0.5, 1], args=(actions, rewards), method='Nelder-Mead', tol=1e-6)\n",
    "alpha_2, beta_2 = res.x\n",
    "print('Model M2')\n",
    "print('ML parameters are : {}'.format(res.x))\n",
    "print('ML is : {}'.format(-res.fun))"
   ]
  },
  {
   "cell_type": "code",
   "execution_count": 148,
   "metadata": {},
   "outputs": [],
   "source": [
    "##Selection"
   ]
  },
  {
   "cell_type": "code",
   "execution_count": 153,
   "metadata": {},
   "outputs": [],
   "source": [
    "idx_session, idx_run = 0, 2\n",
    "data_path = 'data/td_volnoise_subj_{}_run_{}_session_{}.pkl'.format(subject_indexes[idx_subj], idx_run, idx_session)\n",
    "data = pickle.load(open(data_path, 'rb'), encoding=\"latin1\")\n",
    "actions = np.array(data['A_chosen'][:100], dtype=np.object); actions[actions==0] = \"A\"; actions[actions==1] = \"B\"\n",
    "rewards = data['reward'][:100]"
   ]
  },
  {
   "cell_type": "code",
   "execution_count": 154,
   "metadata": {},
   "outputs": [
    {
     "name": "stdout",
     "output_type": "stream",
     "text": [
      "Likelihood of M1 on held-out session : -68.28891543790496\n",
      "Likelihood of M2 on held-out session : -72.17110518390933\n"
     ]
    }
   ],
   "source": [
    "print('Likelihood of M1 on held-out session : {}'.format(-negLogLikelihood_m1(beta_1, actions, rewards)))\n",
    "print('Likelihood of M2 on held-out session : {}'.format(-negLogLikelihood_m2([alpha_2, beta_2], actions, rewards)))"
   ]
  },
  {
   "cell_type": "code",
   "execution_count": 159,
   "metadata": {},
   "outputs": [
    {
     "data": {
      "text/plain": [
       "\"['A, A, A, B, A, A, A, B, A, A, A, B, B, B, A, A, B, B'\\n 'A, B, A, A, B, A, A, B, A, A, A, A, A, A, B, B, B, B'\\n 'B, A, B, B, A, A, A, B, B, B, B, A, A, A, A, B, B, B'\\n 'A, B, A, A, A, A, A, A, A, A, B, B, A, A, B, A, B, A'\\n 'A, A, A, A, A, B, B, B, A, B, B, B, A, A, B, A, A, B'\\n 'B, B, B, A, B, B, B, A, A, A']\""
      ]
     },
     "execution_count": 159,
     "metadata": {},
     "output_type": "execute_result"
    }
   ],
   "source": [
    "str(actions).replace('\\' \\'', ', ')"
   ]
  },
  {
   "cell_type": "code",
   "execution_count": 198,
   "metadata": {},
   "outputs": [
    {
     "data": {
      "image/png": "[encoded data removed]",
      "text/plain": [
       "<Figure size 864x216 with 2 Axes>"
      ]
     },
     "metadata": {
      "needs_background": "light"
     },
     "output_type": "display_data"
    }
   ],
   "source": [
    "mu = 1\n",
    "plt.figure(figsize=(12, 3))\n",
    "plt.subplot(1, 2, 1)\n",
    "sigma = 2\n",
    "x = np.linspace(-5, 7, 100)\n",
    "plt.plot(x, np.log(norm.pdf(x, mu, sigma)) - 1)\n",
    "plt.xlabel('theta')\n",
    "plt.ylabel('likelihood')\n",
    "plt.gca().set_ylim(-18, 0)\n",
    "plt.gca().spines['right'].set_visible(False)\n",
    "plt.gca().spines['top'].set_visible(False)\n",
    "plt.gca().yaxis.set_ticks_position('left')\n",
    "plt.gca().xaxis.set_ticks_position('bottom')\n",
    "plt.subplot(1, 2, 2)\n",
    "sigma = 1\n",
    "x = np.linspace(-5, 7, 100)\n",
    "plt.plot(x, np.log(norm.pdf(x, mu, sigma)))\n",
    "plt.gca().set_ylim(-18, 0)\n",
    "plt.xlabel('theta')\n",
    "plt.ylabel('likelihood')\n",
    "plt.gca().spines['right'].set_visible(False)\n",
    "plt.gca().spines['top'].set_visible(False)\n",
    "plt.gca().yaxis.set_ticks_position('left')\n",
    "plt.gca().xaxis.set_ticks_position('bottom')\n",
    "#plt.savefig('uniformative_parameter.pdf')"
   ]
  },
  {
   "cell_type": "code",
   "execution_count": 241,
   "metadata": {},
   "outputs": [
    {
     "data": {
      "image/png": "[encoded data removed]",
      "text/plain": [
       "<Figure size 864x216 with 2 Axes>"
      ]
     },
     "metadata": {
      "needs_background": "light"
     },
     "output_type": "display_data"
    }
   ],
   "source": [
    "mu = -.5\n",
    "plt.figure(figsize=(12, 3))\n",
    "plt.subplot(1, 2, 1)\n",
    "sigma = 0.7\n",
    "x = np.linspace(-5, 7, 100)\n",
    "pdf = norm.pdf(x, mu, sigma) + norm.pdf(x, 1, 1)\n",
    "mean = np.sum((x * pdf)/sum(pdf))\n",
    "std_ = np.sqrt(np.sum(((x - mean)**2)*pdf/sum(pdf)))\n",
    "plt.plot(x, pdf)\n",
    "plt.xlabel('theta')\n",
    "plt.ylabel('posterior')\n",
    "plt.gca().spines['right'].set_visible(False)\n",
    "plt.gca().spines['top'].set_visible(False)\n",
    "plt.gca().yaxis.set_ticks_position('left')\n",
    "plt.gca().xaxis.set_ticks_position('bottom')\n",
    "plt.subplot(1, 2, 2)\n",
    "plt.plot(x, pdf)\n",
    "plt.plot(x, norm.pdf(x, mean, std_) * max(pdf)/max(norm.pdf(x, mean, std_)), color='orange')\n",
    "plt.plot([mean, mean], [0, 0.8], '--', color='orange')\n",
    "plt.xlabel('theta')\n",
    "plt.ylabel('posterior')\n",
    "plt.gca().spines['right'].set_visible(False)\n",
    "plt.gca().spines['top'].set_visible(False)\n",
    "plt.gca().yaxis.set_ticks_position('left')\n",
    "plt.gca().xaxis.set_ticks_position('bottom')\n",
    "plt.savefig('variational.pdf')"
   ]
  },
  {
   "cell_type": "code",
   "execution_count": 262,
   "metadata": {},
   "outputs": [],
   "source": [
    "likelihood_m1 = lambda l, actions, rewards: np.exp(-negLogLikelihood_m1(l, actions, rewards))\n",
    "likelihood_m2 = lambda l, actions, rewards: np.exp(-negLogLikelihood_m2(l, actions, rewards))"
   ]
  },
  {
   "cell_type": "code",
   "execution_count": 263,
   "metadata": {},
   "outputs": [
    {
     "data": {
      "text/plain": [
       "[<matplotlib.lines.Line2D at 0x7ffb592a7588>]"
      ]
     },
     "execution_count": 263,
     "metadata": {},
     "output_type": "execute_result"
    },
    {
     "data": {
      "image/png": "[encoded data removed]",
      "text/plain": [
       "<Figure size 432x288 with 1 Axes>"
      ]
     },
     "metadata": {
      "needs_background": "light"
     },
     "output_type": "display_data"
    }
   ],
   "source": [
    "range_ = np.linspace(-1, 1, 100)\n",
    "curve = np.array([likelihood_m1(r, actions, rewards) for r in range_])\n",
    "plt.plot(range_, curve)"
   ]
  },
  {
   "cell_type": "code",
   "execution_count": 288,
   "metadata": {},
   "outputs": [
    {
     "name": "stdout",
     "output_type": "stream",
     "text": [
      "marginal likelihood for m1\n",
      "margLkd : -77.79875383972255\n",
      "\n",
      "marginal likelihood for m2\n",
      "margLkd : -74.73973292338768\n"
     ]
    }
   ],
   "source": [
    "print('marginal likelihood for m1')\n",
    "samples = np.random.rand(1000) * 2 - 1\n",
    "marglkd1 = np.log(np.mean(np.array([likelihood_m1(s, actions, rewards) for s in samples]))) - np.log(len(samples))\n",
    "print('margLkd : {}'.format(marglkd1))\n",
    "print('')\n",
    "print('marginal likelihood for m2')\n",
    "samples = np.array([np.random.rand(1000), np.random.rand(1000) * 20 - 10])\n",
    "marglkd2 = np.log(np.mean(np.array([likelihood_m2(s, actions, rewards) for s in samples.T]))) - np.log(len(samples.T))\n",
    "print('margLkd : {}'.format(marglkd2))"
   ]
  },
  {
   "cell_type": "code",
   "execution_count": 286,
   "metadata": {},
   "outputs": [
    {
     "name": "stdout",
     "output_type": "stream",
     "text": [
      "marginal likelihood for m1\n",
      "margLkd : -6.907755278982137\n",
      "\n"
     ]
    }
   ],
   "source": [
    "print('marginal likelihood for m1')\n",
    "samples = np.random.rand(1000) * 2 - 1\n",
    "marglkd1 = np.mean(np.array([likelihood_m1(s, actions, rewards) for s in samples])) - np.log(len(samples))\n",
    "print('margLkd : {}'.format(marglkd1))\n",
    "print('')"
   ]
  },
  {
   "cell_type": "code",
   "execution_count": 287,
   "metadata": {},
   "outputs": [
    {
     "data": {
      "text/plain": [
       "1.3699765153952185e-31"
      ]
     },
     "execution_count": 287,
     "metadata": {},
     "output_type": "execute_result"
    }
   ],
   "source": [
    "np.mean(np.array([likelihood_m1(s, actions, rewards) for s in samples]))"
   ]
  },
  {
   "cell_type": "code",
   "execution_count": null,
   "metadata": {},
   "outputs": [],
   "source": []
  }
 ],
 "metadata": {
  "kernelspec": {
   "display_name": "Python 3",
   "language": "python",
   "name": "python3"
  },
  "language_info": {
   "codemirror_mode": {
    "name": "ipython",
    "version": 3
   },
   "file_extension": ".py",
   "mimetype": "text/x-python",
   "name": "python",
   "nbconvert_exporter": "python",
   "pygments_lexer": "ipython3",
   "version": "3.8.5"
  }
 },
 "nbformat": 4,
 "nbformat_minor": 4
}
