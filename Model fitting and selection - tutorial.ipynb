{
 "cells": [
  {
   "cell_type": "code",
   "execution_count": 289,
   "metadata": {},
   "outputs": [],
   "source": [
    "%matplotlib inline\n",
    "import numpy as np\n",
    "from scipy.optimize import minimize\n",
    "import pickle, os, glob, sys, matplotlib\n",
    "from itertools import accumulate\n",
    "import matplotlib.pyplot as plt\n",
    "from scipy.stats import pearsonr, wilcoxon, norm\n",
    "import numpy as np\n",
    "from scipy.special import digamma, betainc"
   ]
  },
  {
   "cell_type": "code",
   "execution_count": 290,
   "metadata": {},
   "outputs": [
    {
     "data": {
      "text/html": [
       "\n",
       "        <script>\n",
       "            function code_toggle_16791496594861397657() {\n",
       "                $('div.cell.code_cell.rendered.selected').find('div.input').toggle();\n",
       "            }\n",
       "\n",
       "            \n",
       "        </script>\n",
       "\n",
       "        <a href=\"javascript:code_toggle_16791496594861397657()\">Toggle show/hide</a>\n",
       "    "
      ],
      "text/plain": [
       "<IPython.core.display.HTML object>"
      ]
     },
     "execution_count": 290,
     "metadata": {},
     "output_type": "execute_result"
    }
   ],
   "source": [
    "from IPython.display import HTML\n",
    "import random\n",
    "\n",
    "def hide_toggle(for_next=False):\n",
    "    this_cell = \"\"\"$('div.cell.code_cell.rendered.selected')\"\"\"\n",
    "    next_cell = this_cell + '.next()'\n",
    "\n",
    "    toggle_text = 'Toggle show/hide'  # text shown on toggle link\n",
    "    target_cell = this_cell  # target cell to control with toggle\n",
    "    js_hide_current = ''  # bit of JS to permanently hide code in current cell (only when toggling next cell)\n",
    "\n",
    "    if for_next:\n",
    "        target_cell = next_cell\n",
    "        toggle_text += ' next cell'\n",
    "        js_hide_current = this_cell + '.find(\"div.input\").hide();'\n",
    "\n",
    "    js_f_name = 'code_toggle_{}'.format(str(random.randint(1,2**64)))\n",
    "\n",
    "    html = \"\"\"\n",
    "        <script>\n",
    "            function {f_name}() {{\n",
    "                {cell_selector}.find('div.input').toggle();\n",
    "            }}\n",
    "\n",
    "            {js_hide_current}\n",
    "        </script>\n",
    "\n",
    "        <a href=\"javascript:{f_name}()\">{toggle_text}</a>\n",
    "    \"\"\".format(\n",
    "        f_name=js_f_name,\n",
    "        cell_selector=target_cell,\n",
    "        js_hide_current=js_hide_current, \n",
    "        toggle_text=toggle_text\n",
    "    )\n",
    "\n",
    "    return HTML(html)\n",
    "\n",
    "def exceedance_proba(alpha, Nsamp=1e6):\n",
    "\n",
    "    # Compute exceedance probabilities for a Dirichlet distribution\n",
    "    # FORMAT xp = spm_dirichlet_exceedance(alpha,Nsamp)\n",
    "    # \n",
    "    # Input:\n",
    "    # alpha     - Dirichlet parameters\n",
    "    # Nsamp     - number of samples used to compute xp [default = 1e6]\n",
    "    # \n",
    "    # Output:\n",
    "    # xp        - exceedance probability\n",
    "    #__________________________________________________________________________\n",
    "    #\n",
    "    # This function computes exceedance probabilities, i.e. for any given model\n",
    "    # k1, the probability that it is more likely than any other model k2.  \n",
    "    # More formally, for k1=1..Nk and for all k2~=k1, it returns p(x_k1>x_k2) \n",
    "    # given that p(x)=dirichlet(alpha).\n",
    "    # \n",
    "    # Refs:\n",
    "    # Stephan KE, Penny WD, Daunizeau J, Moran RJ, Friston KJ\n",
    "    # Bayesian Model Selection for Group Studies. NeuroImage (in press)\n",
    "    #__________________________________________________________________________\n",
    "    # charles.findling\n",
    "    # this is a translation from matlab to code. We tried to keep the structure\n",
    "    # the closest possible to the original script\n",
    "\n",
    "    Nk = len(alpha)\n",
    "    xp = np.zeros(Nk)\n",
    "\n",
    "    for i in range(Nsamp):\n",
    "        # Sample from univariate gamma densities then normalise\n",
    "        # (see Dirichlet entry in Wikipedia or Ferguson (1973) Ann. Stat. 1,\n",
    "        # 209-230)\n",
    "        #----------------------------------------------------------------------\n",
    "\n",
    "        r = np.zeros(Nk)\n",
    "        for k in range(Nk):\n",
    "            r[k] = np.random.gamma(alpha[k], 1)\n",
    "\n",
    "        sr = np.sum(r)\n",
    "        for k in range(Nk):\n",
    "            r[k] = r[k]/sr\n",
    "\n",
    "        # Exceedance probabilities:\n",
    "        # For any given model k1, compute the probability that it is more\n",
    "        # likely than any other model k2~=k1\n",
    "        # ----------------------------------------------------------------------\n",
    "        xp[np.argmax(r)] += 1\n",
    "\n",
    "    return xp/sum(xp)\n",
    "\n",
    "def BMS_dirichlet(*args):\n",
    "    # Bayesian model selection for group studies\n",
    "    # FORMAT [alpha, exp_r, xp] = spm_BMS (lme, Nsamp, ecp, alpha0)\n",
    "    # \n",
    "    # INPUT:\n",
    "    # lme      - array of log model evidences \n",
    "    #              rows: subjects\n",
    "    #              columns: models (1..Nk)\n",
    "    # Nsamp    - number of samples used to compute exceedance probabilities\n",
    "    #            (default: 1e6)\n",
    "    # do_plot  - 1 to plot p(r|y)\n",
    "    # sampling - use sampling to compute exact alpha\n",
    "    # ecp      - 1 to compute exceedance probability\n",
    "    # alpha0   - [1 x Nk] vector of prior model counts\n",
    "    # \n",
    "    # OUTPUT:\n",
    "    # alpha   - vector of model probabilities\n",
    "    # exp_r   - expectation of the posterior p(r|y)\n",
    "    # xp      - exceedance probabilities\n",
    "    # \n",
    "    # REFERENCE:\n",
    "    # Stephan KE, Penny WD, Daunizeau J, Moran RJ, Friston KJ (2009)\n",
    "    # Bayesian Model Selection for Group Studies. NeuroImage 46:1004-1017\n",
    "    #__________________________________________________________________________\n",
    "    # charles.findling\n",
    "    # this is a translation from matlab to code. We tried to keep the structure\n",
    "    # the closest possible to the original script\n",
    "\n",
    "    if len(args) < 1:\n",
    "        return ValueError('Invalid number of arguments') \n",
    "\n",
    "    max_val    = np.finfo('float').max\n",
    "    lme        = args[0]\n",
    "    Ni, Nk     = lme.shape\n",
    "    c          = 1.\n",
    "    cc         = 1e-3\n",
    "    log_u      = np.zeros([Ni, Nk])\n",
    "    u          = np.zeros([Ni, Nk])\n",
    "    g          = np.zeros([Ni, Nk])\n",
    "    beta       = np.zeros(Nk)\n",
    "    prev_alpha = np.zeros(Nk)\n",
    "    exp_r      = np.zeros(Nk)\n",
    "    xp         = np.zeros(Nk)\n",
    "\n",
    "    if len(args) < 2:\n",
    "        N_samp = int(1e6)\n",
    "    else:\n",
    "        N_samp = int(args[1])\n",
    "    if len(args) < 3:\n",
    "        ecp = 1\n",
    "    else:\n",
    "        ecp = args[2]\n",
    "\n",
    "    # prior observations\n",
    "    # --------------------------------------------------------------------\n",
    "    if len(args) < 4:\n",
    "        alpha0 = np.ones(Nk)\n",
    "    else:\n",
    "        alpha0 = args[3]\n",
    "    alpha = np.array(alpha0)\n",
    "\n",
    "\n",
    "    # iterative VB estimation\n",
    "    # ---------------------------------------------------------------------\n",
    "\n",
    "    while c > cc:\n",
    "\n",
    "        # compute posterior belief g(i,k)=q(m_i=k|y_i) that model k generated\n",
    "        # the data for the i-th subject\n",
    "        for i in range(Ni):\n",
    "            for k in range(Nk):\n",
    "                # integrate out prior probabilities of models (in log space)\n",
    "                log_u[i, k] = lme[i,k] + digamma(alpha[k]) - digamma(np.sum(alpha))\n",
    "\n",
    "            # prevent overflow\n",
    "            log_u[i, :] = log_u[i, :] - np.max(log_u[i,:])\n",
    "\n",
    "            # prevent numerical problems for badly scaled posteriors\n",
    "            for k in range(Nk):\n",
    "                log_u[i,k] = np.sign(log_u[i,k]) * np.minimum(max_val, np.abs(log_u[i,k]))\n",
    "\n",
    "            # exponentiate (to get back to non-log representation)\n",
    "            u[i,:] = np.exp(log_u[i,:])\n",
    "\n",
    "            # normalisation: sum across all models for i-th subject\n",
    "            u_i    = np.sum(u[i,:])\n",
    "            g[i,:] = u[i,:]/u_i\n",
    "\n",
    "        # expected number of subjects whose data we believe to have been \n",
    "        # generated by model k\n",
    "        for k in range(Nk):\n",
    "            beta[k] = np.sum(g[:,k])\n",
    "\n",
    "        # update alpha\n",
    "        prev_alpha[:] = alpha\n",
    "        for k in range(Nk):\n",
    "            alpha[k] = alpha0[k] + beta[k]\n",
    "\n",
    "        # convergence?\n",
    "        c = np.sum(np.abs(alpha - prev_alpha))\n",
    "\n",
    "    # Compute expectation of the posterior p(r|y)\n",
    "    # --------------------------------------------------------------------------\n",
    "    exp_r[:] = alpha/np.sum(alpha) \n",
    "\n",
    "    # Compute exceedance probabilities p(r_i>r_j)\n",
    "    # --------------------------------------------------------------------------\n",
    "\n",
    "    if ecp:\n",
    "        if Nk == 2:\n",
    "            # comparison of 2 models\n",
    "            xp[0] = betainc(alpha[1], alpha[0], .5)\n",
    "            xp[1] = betainc(alpha[0], alpha[1], .5)\n",
    "        else:\n",
    "            # comparison of >2 models: use sampling approach\n",
    "            xp = exceedance_proba(alpha, N_samp)\n",
    "\n",
    "    return [alpha, exp_r, xp]\n",
    "\n",
    "hide_toggle()"
   ]
  },
  {
   "cell_type": "markdown",
   "metadata": {},
   "source": [
    "### Importing behavioral data\n",
    "We import here the behavior of N=24 subjects which performed 2 sessions of a restless bandit task with 100 trials\n",
    "The cell outputs the actions, the observed rewards and the correct answer. Each of these arrays are tensors of dimension N_subjects x N_sessions x N_trials"
   ]
  },
  {
   "cell_type": "code",
   "execution_count": 291,
   "metadata": {},
   "outputs": [],
   "source": [
    "nb_subjects, nb_sessions, nb_trials = 24, 2, 100\n",
    "actions, obs_rewards, correct_answer = np.zeros([nb_subjects, nb_sessions, nb_trials]), \\\n",
    "                                                    np.zeros([nb_subjects, nb_sessions, nb_trials]), \\\n",
    "                                                        np.zeros([nb_subjects, nb_sessions, nb_trials])\n",
    "for i_sub in range(nb_subjects):\n",
    "    for i_sess in range(nb_sessions):\n",
    "        f = pickle.load(open('data/td_volnoise_subj_{}_session_{}.pkl'.format(i_sub + 1, i_sess), 'rb'))\n",
    "        actions[i_sub, i_sess] = f['a_chosen']\n",
    "        obs_rewards[i_sub, i_sess] = f['reward']\n",
    "        correct_answer[i_sub, i_sess] = f['correct']        "
   ]
  },
  {
   "cell_type": "markdown",
   "metadata": {},
   "source": [
    "### Q1: Plotting subject performances\n",
    "TODO: What is the mean and standard deviation of human performances (nb of times subjects chose the highest-rewarding arm)?  <br>\n",
    "TODO: Does the performances increase between session 1 and session 2 (use wilcoxon for statistics)? <br>\n",
    "TODO: Do performance across session 1 and 2 correlate (use pearsonr method for statistics)? <br>\n",
    "TODO: Plot the performance over session 1 as a function of the performance over session 2 with plt.scatter"
   ]
  },
  {
   "cell_type": "code",
   "execution_count": 392,
   "metadata": {},
   "outputs": [
    {
     "name": "stdout",
     "output_type": "stream",
     "text": [
      "mean performance is 0.55. Standard deviation is 0.0\n",
      "between session difference test: WilcoxonResult(statistic=131.0, pvalue=0.6033114194869995)\n",
      "between session correlation test: (0.20484388886871466, 0.33696037930163847)\n"
     ]
    },
    {
     "data": {
      "text/html": [
       "\n",
       "        <script>\n",
       "            function code_toggle_17328517374336620948() {\n",
       "                $('div.cell.code_cell.rendered.selected').find('div.input').toggle();\n",
       "            }\n",
       "\n",
       "            \n",
       "        </script>\n",
       "\n",
       "        <a href=\"javascript:code_toggle_17328517374336620948()\">Toggle show/hide</a>\n",
       "    "
      ],
      "text/plain": [
       "<IPython.core.display.HTML object>"
      ]
     },
     "execution_count": 392,
     "metadata": {},
     "output_type": "execute_result"
    },
    {
     "data": {
      "image/png": "[encoded data removed]",
      "text/plain": [
       "<Figure size 288x288 with 1 Axes>"
      ]
     },
     "metadata": {
      "needs_background": "light"
     },
     "output_type": "display_data"
    }
   ],
   "source": [
    "# mean and standard deviation\n",
    "performances = np.random.rand() # takeout # write here\n",
    "mean_perf, std_perf = np.mean(performances), np.std(performances)\n",
    "print('mean performance is {}. Standard deviation is {}'.format(np.round(mean_perf, 2), np.round(std_perf, 2)))\n",
    "# performance between sessions\n",
    "performances_session1 = np.random.rand(nb_subjects) # takeout # write here\n",
    "performances_session2 = np.random.rand(nb_subjects) # takeout # write here\n",
    "print('between session difference test: {}'.format(wilcoxon(performances_session1, performances_session2)))\n",
    "# between session correlation\n",
    "print('between session correlation test: {}'.format(pearsonr(performances_session1, performances_session2)))\n",
    "# plot\n",
    "plt.figure(figsize=(4, 4))\n",
    "plt.scatter(performances_session1, performances_session2, marker='+')\n",
    "plt.xlabel('performance session 1')\n",
    "plt.ylabel('performance session 2')\n",
    "hide_toggle()"
   ]
  },
  {
   "cell_type": "markdown",
   "metadata": {},
   "source": [
    "### Definition of model likelihoods functions"
   ]
  },
  {
   "cell_type": "code",
   "execution_count": 367,
   "metadata": {},
   "outputs": [
    {
     "data": {
      "text/html": [
       "\n",
       "        <script>\n",
       "            function code_toggle_5095134224523916444() {\n",
       "                $('div.cell.code_cell.rendered.selected').find('div.input').toggle();\n",
       "            }\n",
       "\n",
       "            \n",
       "        </script>\n",
       "\n",
       "        <a href=\"javascript:code_toggle_5095134224523916444()\">Toggle show/hide</a>\n",
       "    "
      ],
      "text/plain": [
       "<IPython.core.display.HTML object>"
      ]
     },
     "execution_count": 367,
     "metadata": {},
     "output_type": "execute_result"
    }
   ],
   "source": [
    "''' \n",
    "return the loglikelihood for the model 1 (counting model) which assumes that humans\n",
    "do not assume changes in the environment\n",
    "This model has one parameter: a softmax parameter\n",
    "beta is a number\n",
    "args is the list = [actions, rewards]\n",
    "'''\n",
    "def negLogLikelihood_m1(beta, *args):\n",
    "    if len(args) != 2: assert(False), 'InputError'\n",
    "    actions, rewards = args\n",
    "    if len(actions.shape) == 1:\n",
    "        actions = np.expand_dims(actions, 0)\n",
    "    if len(rewards.shape) == 1:\n",
    "        rewards = np.expand_dims(rewards, 0)\n",
    "    negloglkd = 0\n",
    "    for i in range(len(rewards)):\n",
    "        countA = np.cumsum((actions[i] == 0) * rewards[i] + (actions[i] == 1) * (1 - rewards[i]))\n",
    "        countB = np.cumsum((actions[i] == 1) * rewards[i] + (actions[i] == 0) * (1 - rewards[i]))\n",
    "        counts = np.vstack((countA, countB))\n",
    "        counts_chosen = counts[(actions[i]==1)*1, np.arange(len(actions[i]))]\n",
    "        counts_unchosen = counts[(actions[i]==0)*1, np.arange(len(actions[i]))]        \n",
    "        negloglkd += -np.sum(beta * counts_chosen - np.logaddexp(beta * counts_chosen, beta * counts_unchosen))\n",
    "    return negloglkd\n",
    "\n",
    "''' \n",
    "return the loglikelihood for the model 2 (drifting model) which assumes that humans\n",
    "assume changes in the environment.\n",
    "This model has two parameters: a softmax parameter and a learning rate\n",
    "parameters is a array of two numbers = [learning_rate, beta]\n",
    "args is the list = [actions, rewards]\n",
    "'''\n",
    "def negLogLikelihood_m2(parameters, *args):\n",
    "    if len(args) != 2: assert(False), 'InputError'\n",
    "    actions, rewards = args\n",
    "    alpha, beta = parameters\n",
    "    if len(actions.shape) == 1:\n",
    "        actions = np.expand_dims(actions, 0)\n",
    "    if len(rewards.shape) == 1:\n",
    "        rewards = np.expand_dims(rewards, 0)\n",
    "    negloglkd = 0    \n",
    "    for i in range(len(rewards)):\n",
    "        correctA = np.concatenate((np.array([0.5]), (actions[i] == 0) * rewards[i] + (actions[i] == 1) * (1 - rewards[i])))\n",
    "        correctB = np.concatenate((np.array([0.5]), (actions[i] == 1) * rewards[i] + (actions[i] == 0) * (1 - rewards[i])))\n",
    "        pA = np.array(list(accumulate(correctA, lambda x, y: (1 - alpha) * x + alpha * y)))[:-1]\n",
    "        pB = np.array(list(accumulate(correctB, lambda x, y: (1 - alpha) * x + alpha * y)))[:-1]\n",
    "        probabilities = np.vstack((pA, pB))\n",
    "        prob_chosen = probabilities[(actions[i]==1)*1, np.arange(len(actions[i]))]\n",
    "        prob_unchosen = probabilities[(actions[i]==0)*1, np.arange(len(actions[i]))]\n",
    "        negloglkd += -np.sum(beta * prob_chosen - np.logaddexp(beta * prob_chosen, beta * prob_unchosen))\n",
    "    return negloglkd\n",
    "hide_toggle()"
   ]
  },
  {
   "cell_type": "markdown",
   "metadata": {},
   "source": [
    "## FREQUENTIST APPROACH"
   ]
  },
  {
   "cell_type": "markdown",
   "metadata": {},
   "source": [
    "### How to obtain the maximum likelihood for one example subject and session\n",
    "Uses 'L-BFGS-B' which computes an approximate hessian from the scipy.optimize library - corresponds to the fmincon in MATLAB"
   ]
  },
  {
   "cell_type": "code",
   "execution_count": 395,
   "metadata": {},
   "outputs": [
    {
     "name": "stdout",
     "output_type": "stream",
     "text": [
      "Model M1 for example subj 2, and session 0\n",
      "ML parameters (softmax) are : [0.14604618]\n",
      "logML is : -64.7542978732786\n",
      "trial-wise ML is : 0.5233300314113893\n",
      "\n",
      "Model M2 for example subj 2, and session 0\n",
      "ML parameters (learning rate and softmax) are : [0.39348431 5.6727822 ]\n",
      "logML is : -25.778120415660723\n",
      "trial-wise ML is : 0.77276429122638\n"
     ]
    },
    {
     "data": {
      "text/html": [
       "\n",
       "        <script>\n",
       "            function code_toggle_3784155271195804319() {\n",
       "                $('div.cell.code_cell.rendered.selected').find('div.input').toggle();\n",
       "            }\n",
       "\n",
       "            \n",
       "        </script>\n",
       "\n",
       "        <a href=\"javascript:code_toggle_3784155271195804319()\">Toggle show/hide</a>\n",
       "    "
      ],
      "text/plain": [
       "<IPython.core.display.HTML object>"
      ]
     },
     "execution_count": 395,
     "metadata": {},
     "output_type": "execute_result"
    }
   ],
   "source": [
    "i_subj_example, i_session_example = 2, 0\n",
    "# for model m1\n",
    "act, obs_r = actions[i_subj_example, i_session_example], \\\n",
    "                    obs_rewards[i_subj_example, i_session_example] # get subjects action and reward\n",
    "initial_points, res = [0.1, 0.2, 0.4, 0.8, 0.], None\n",
    "for init in initial_points: # try multiple initializations\n",
    "    candidate_res = minimize(negLogLikelihood_m1, [init], args=(act, obs_r), method='L-BFGS-B', tol=1e-6)\n",
    "    if res is None or candidate_res.fun < res.fun:\n",
    "        res = candidate_res # replace old result if it is None (first step) or if the candidate result is better\n",
    "beta_example_1 = res.x\n",
    "print('Model M1 for example subj {}, and session {}'.format(i_subj_example, i_session_example))\n",
    "print('ML parameters (softmax) are : {}'.format(res.x))\n",
    "print('logML is : {}'.format(-res.fun))\n",
    "print('trial-wise ML is : {}'.format(np.exp(-res.fun/nb_trials)))\n",
    "print('')\n",
    "# for model m2\n",
    "act, obs_r = actions[i_subj_example, i_session_example], \\\n",
    "                    obs_rewards[i_subj_example, i_session_example] # get subjects action and reward\n",
    "initial_points, res = [[0.1, 1], [0.2, 4], [0.4, 3], [0.8, 10]], None\n",
    "for init in initial_points: # try multiple initializations\n",
    "    candidate_res = minimize(negLogLikelihood_m2, init, args=(act, obs_r), method='L-BFGS-B', tol=1e-6)\n",
    "    if res is None or candidate_res.fun < res.fun:\n",
    "        res = candidate_res # replace old result if it is None (first step) or if the candidate result is better\n",
    "alpha_example_2, beta_example_2 = res.x\n",
    "print('Model M2 for example subj {}, and session {}'.format(i_subj_example, i_session_example))\n",
    "print('ML parameters (learning rate and softmax) are : {}'.format(res.x))\n",
    "print('logML is : {}'.format(-res.fun))\n",
    "print('trial-wise ML is : {}'.format(np.exp(-res.fun/nb_trials)))\n",
    "\n",
    "hide_toggle()"
   ]
  },
  {
   "cell_type": "markdown",
   "metadata": {},
   "source": [
    "### Q2: Obtain the maximum likelihood for all subjects (see previous cell for example subject)\n",
    "TODO: Compute the logML, the trial-wise ML, the ML parameters of these two models for all N=24 subjects on session 0. <br>\n",
    "TODO: Plot the distribution over learning rates and softmax parameters."
   ]
  },
  {
   "cell_type": "code",
   "execution_count": 369,
   "metadata": {},
   "outputs": [
    {
     "name": "stdout",
     "output_type": "stream",
     "text": [
      "Model M1\n",
      "The average trial-wise likelihood (mean and std) for m1: 0.0 ± 0.0\n",
      "The average parameters (mean and std) for m1: 0.0 ± 0.0\n",
      "\n",
      "Model M2\n",
      "The average trial-wise likelihood (mean and std) for m2: 0.0 ± 0.0\n",
      "The average parameters (mean and std) for m2: 0.0 ± 0.0\n"
     ]
    },
    {
     "data": {
      "text/html": [
       "\n",
       "        <script>\n",
       "            function code_toggle_13593363949432755951() {\n",
       "                $('div.cell.code_cell.rendered.selected').find('div.input').toggle();\n",
       "            }\n",
       "\n",
       "            \n",
       "        </script>\n",
       "\n",
       "        <a href=\"javascript:code_toggle_13593363949432755951()\">Toggle show/hide</a>\n",
       "    "
      ],
      "text/plain": [
       "<IPython.core.display.HTML object>"
      ]
     },
     "execution_count": 369,
     "metadata": {},
     "output_type": "execute_result"
    },
    {
     "data": {
      "image/png": "[encoded data removed]",
      "text/plain": [
       "<Figure size 1152x288 with 3 Axes>"
      ]
     },
     "metadata": {
      "needs_background": "light"
     },
     "output_type": "display_data"
    }
   ],
   "source": [
    "logML, trialwiseML = np.zeros([nb_subjects, 2]), np.zeros([nb_subjects, 2]) # second dimension is for m1 and m2\n",
    "ML_parameters_m1, ML_parameters_m2 = np.zeros([nb_subjects]), np.zeros([nb_subjects, 2])\n",
    "for i_subj in range(nb_subjects):\n",
    "    ... # write here\n",
    "print('Model M1')\n",
    "print('The average trial-wise likelihood (mean and std) for m1: {} ± {}'.format(np.mean(trialwiseML[:, 0]), np.std(trialwiseML[:, 0])))\n",
    "print('The average parameters (mean and std) for m1: {} ± {}'.format(np.mean(ML_parameters_m1, axis=0), np.std(ML_parameters_m1, axis=0)))\n",
    "print('')\n",
    "print('Model M2')\n",
    "print('The average trial-wise likelihood (mean and std) for m2: {} ± {}'.format(np.mean(trialwiseML[:, 1]), np.std(trialwiseML[:, 1])))\n",
    "print('The average parameters (mean and std) for m2: {} ± {}'.format(np.mean(ML_parameters_m1, axis=0), np.std(ML_parameters_m1, axis=0)))\n",
    "\n",
    "plt.figure(figsize=(16, 4))\n",
    "plt.subplot(1, 3, 1)\n",
    "# write here\n",
    "plt.ylabel('density')\n",
    "plt.xlabel('beta - model m1')\n",
    "plt.subplot(1, 3, 2)\n",
    "# write here\n",
    "plt.ylabel('density')\n",
    "plt.xlabel('beta - model m2')\n",
    "plt.subplot(1, 3, 3)\n",
    "# write here\n",
    "plt.ylabel('density')\n",
    "plt.xlabel('learning rate - model m2')\n",
    "hide_toggle()"
   ]
  },
  {
   "cell_type": "markdown",
   "metadata": {},
   "source": [
    "### How to obtain the loglikelihood of both models for the one example subject on the held-out session"
   ]
  },
  {
   "cell_type": "code",
   "execution_count": 403,
   "metadata": {},
   "outputs": [
    {
     "name": "stdout",
     "output_type": "stream",
     "text": [
      "model M1 for example subj 1\n",
      "LogLikelihood on held-out session 1 : -98.9245883553368\n",
      "Trial-wise likelihood on held-out session 1: 0.3718570087987689\n",
      "\n",
      "model M2 for example subj 1\n",
      "LogLikelihood on held-out session 1: -63.11884098026329\n",
      "Trial-wise likelihood on held-out session 1: 0.5319592396352942\n"
     ]
    },
    {
     "data": {
      "text/html": [
       "\n",
       "        <script>\n",
       "            function code_toggle_8959913304290164945() {\n",
       "                $('div.cell.code_cell.rendered.selected').find('div.input').toggle();\n",
       "            }\n",
       "\n",
       "            \n",
       "        </script>\n",
       "\n",
       "        <a href=\"javascript:code_toggle_8959913304290164945()\">Toggle show/hide</a>\n",
       "    "
      ],
      "text/plain": [
       "<IPython.core.display.HTML object>"
      ]
     },
     "execution_count": 403,
     "metadata": {},
     "output_type": "execute_result"
    }
   ],
   "source": [
    "i_session_example = 1\n",
    "act, obs_r = actions[i_subj_example, i_session_example], obs_rewards[i_subj_example, i_session_example]\n",
    "loglkd_m1 = -negLogLikelihood_m1(beta_example_1, act, obs_r)\n",
    "loglkd_m2 = -negLogLikelihood_m2([alpha_example_2, beta_example_2], act, obs_r)\n",
    "print('model M1 for example subj {}'.format(i_session_example))\n",
    "print('LogLikelihood on held-out session {} : {}'.format(i_session_example, loglkd_m1))\n",
    "print('Trial-wise likelihood on held-out session {}: {}'.format(i_session_example, np.exp(loglkd_m1/nb_trials)))\n",
    "print('')\n",
    "print('model M2 for example subj {}'.format(i_session_example))\n",
    "print('LogLikelihood on held-out session {}: {}'.format(i_session_example, loglkd_m2))\n",
    "print('Trial-wise likelihood on held-out session {}: {}'.format(i_session_example, np.exp(loglkd_m2/nb_trials)))\n",
    "hide_toggle()"
   ]
  },
  {
   "cell_type": "markdown",
   "metadata": {},
   "source": [
    "### Q3: Obtain the loglikehoods on held-out sessions for all subjects (see previous cell for example subject)\n",
    "TODO:  Does one model better explain the behavior than the other. If yes, which one? use wilcoxon to conclude on statistics <br>\n",
    "TODO: Across subjects, is the logML on the held-in session better than on the held-out session (use wilcoxon)? is there overfitting?"
   ]
  },
  {
   "cell_type": "code",
   "execution_count": 371,
   "metadata": {},
   "outputs": [
    {
     "name": "stdout",
     "output_type": "stream",
     "text": [
      "The winning model is ...\n",
      "M1: difference of logML between held-in and held-out sessions: WilcoxonResult(statistic=0.0, pvalue=1.1920928955078125e-07)\n",
      "M2: difference of logML between held-in and held-out sessions: WilcoxonResult(statistic=0.0, pvalue=1.1920928955078125e-07)\n"
     ]
    },
    {
     "data": {
      "text/html": [
       "\n",
       "        <script>\n",
       "            function code_toggle_6068320664778581149() {\n",
       "                $('div.cell.code_cell.rendered.selected').find('div.input').toggle();\n",
       "            }\n",
       "\n",
       "            \n",
       "        </script>\n",
       "\n",
       "        <a href=\"javascript:code_toggle_6068320664778581149()\">Toggle show/hide</a>\n",
       "    "
      ],
      "text/plain": [
       "<IPython.core.display.HTML object>"
      ]
     },
     "execution_count": 371,
     "metadata": {},
     "output_type": "execute_result"
    }
   ],
   "source": [
    "heldout_logML = np.zeros([nb_subjects, 2]) + np.random.rand() # takeout\n",
    "for i_subj in range(nb_subjects):\n",
    "    ... # write here\n",
    "print('difference of logML between models: {}'.format(wilcoxon(heldout_logML[:, 0], heldout_logML[:, 1])))    \n",
    "print('The winning model is ...') # write here\n",
    "print('M1: difference of logML between held-in and held-out sessions: {}'.format(wilcoxon(logML[:, 0], heldout_logML[:, 0])))\n",
    "print('M2: difference of logML between held-in and held-out sessions: {}'.format(wilcoxon(logML[:, 1], heldout_logML[:, 1])))\n",
    "hide_toggle()"
   ]
  },
  {
   "cell_type": "markdown",
   "metadata": {},
   "source": [
    "### Definition of simulation functions"
   ]
  },
  {
   "cell_type": "code",
   "execution_count": 372,
   "metadata": {},
   "outputs": [
    {
     "data": {
      "text/html": [
       "\n",
       "        <script>\n",
       "            function code_toggle_13414699536505685206() {\n",
       "                $('div.cell.code_cell.rendered.selected').find('div.input').toggle();\n",
       "            }\n",
       "\n",
       "            \n",
       "        </script>\n",
       "\n",
       "        <a href=\"javascript:code_toggle_13414699536505685206()\">Toggle show/hide</a>\n",
       "    "
      ],
      "text/plain": [
       "<IPython.core.display.HTML object>"
      ]
     },
     "execution_count": 372,
     "metadata": {},
     "output_type": "execute_result"
    }
   ],
   "source": [
    "''' \n",
    "return the simulations for model 1\n",
    "This model has one parameter: a softmax parameter\n",
    "'''\n",
    "def simulation_m1(beta, *args):\n",
    "    if len(args) != 2: assert(False), 'InputError'\n",
    "    actions, rewards = args\n",
    "    if len(actions.shape) == 1:\n",
    "        actions = np.expand_dims(actions, 0)\n",
    "    if len(rewards.shape) == 1:\n",
    "        rewards = np.expand_dims(rewards, 0)\n",
    "    simulated_actions = []\n",
    "    for i in range(len(rewards)):\n",
    "        countA = np.cumsum((actions[i] == 0) * rewards[i] + (actions[i] == 1) * (1 - rewards[i]))\n",
    "        countB = np.cumsum((actions[i] == 1) * rewards[i] + (actions[i] == 0) * (1 - rewards[i]))\n",
    "        pA_dec     = np.exp(beta * countA)/(np.exp(beta * countA) + np.exp(beta * countB))\n",
    "        actions_session = (np.random.rand(len(countA)) > pA_dec)\n",
    "        simulated_actions.append(actions_session)\n",
    "    return np.array(simulated_actions)\n",
    "\n",
    "''' \n",
    "return the simulations for model 2\n",
    "This model has two parameters: a softmax parameter and a learning rate\n",
    "'''\n",
    "def simulation_m2(parameters, *args):\n",
    "    if len(args) != 2: assert(False), 'InputError'\n",
    "    actions, rewards = args\n",
    "    alpha, beta = parameters\n",
    "    if len(actions.shape) == 1:\n",
    "        actions = np.expand_dims(actions, 0)\n",
    "    if len(rewards.shape) == 1:\n",
    "        rewards = np.expand_dims(rewards, 0)    \n",
    "    simulated_actions = []\n",
    "    for i in range(len(rewards)):\n",
    "        correctA = np.concatenate((np.array([0.5]), (actions[i] == 0) * rewards[i] + (actions[i] == 1) * (1 - rewards[i])))\n",
    "        correctB = np.concatenate((np.array([0.5]), (actions[i] == 1) * rewards[i] + (actions[i] == 0) * (1 - rewards[i])))\n",
    "        pA = np.array(list(accumulate(correctA, lambda x, y: (1 - alpha) * x + alpha * y)))[:-1]\n",
    "        pB = np.array(list(accumulate(correctB, lambda x, y: (1 - alpha) * x + alpha * y)))[:-1]\n",
    "        pA_dec = np.exp(beta * pA)/(np.exp(beta * pA) + np.exp(beta * pB))\n",
    "        actions_session = (np.random.rand(len(pA)) > pA_dec)\n",
    "        simulated_actions.append(actions_session)\n",
    "    return np.array(simulated_actions)\n",
    "hide_toggle()"
   ]
  },
  {
   "cell_type": "markdown",
   "metadata": {},
   "source": [
    "### How to simulate and plot for example subject on held-out session"
   ]
  },
  {
   "cell_type": "code",
   "execution_count": 391,
   "metadata": {},
   "outputs": [
    {
     "name": "stdout",
     "output_type": "stream",
     "text": [
      "model free performance metric for subject 0\n",
      "performances is 0.57\n",
      "performances of simulations of m1 is 0.8608\n",
      "performances of simulations of m2 is 0.6058\n"
     ]
    },
    {
     "data": {
      "text/html": [
       "\n",
       "        <script>\n",
       "            function code_toggle_3109959443586892973() {\n",
       "                $('div.cell.code_cell.rendered.selected').find('div.input').toggle();\n",
       "            }\n",
       "\n",
       "            \n",
       "        </script>\n",
       "\n",
       "        <a href=\"javascript:code_toggle_3109959443586892973()\">Toggle show/hide</a>\n",
       "    "
      ],
      "text/plain": [
       "<IPython.core.display.HTML object>"
      ]
     },
     "execution_count": 391,
     "metadata": {},
     "output_type": "execute_result"
    },
    {
     "data": {
      "image/png": "[encoded data removed]",
      "text/plain": [
       "<Figure size 1152x288 with 1 Axes>"
      ]
     },
     "metadata": {
      "needs_background": "light"
     },
     "output_type": "display_data"
    }
   ],
   "source": [
    "i_session_example, nb_sim = 1, 50\n",
    "simulated_actions_m1 = np.zeros([nb_sim, nb_trials])\n",
    "simulated_actions_m2 = np.zeros([nb_sim, nb_trials])\n",
    "for i in range(nb_sim):\n",
    "    act, obs_r = actions[i_subj_example, i_session_example], obs_rewards[i_subj_example, i_session_example]\n",
    "    simulated_actions_m1[i] = simulation_m1(beta_example_1, act, obs_r)\n",
    "    simulated_actions_m2[i] = simulation_m2([alpha_example_2, beta_example_2], act, obs_r)\n",
    "\n",
    "performance_subject = (actions[i_subj_example, i_session_example] == correct[i_subj_example, i_session_example]).mean()\n",
    "performances_m1 = (simulated_actions_m1==correct[i_subj_example, i_session_example]).mean()\n",
    "performances_m2 = (simulated_actions_m2==correct[i_subj_example, i_session_example]).mean()\n",
    "\n",
    "print('model free performance metric for subject {}'.format(i_subj_example))\n",
    "print('performances is {}'.format(performance_subject))\n",
    "print('performances of simulations of m1 is {}'.format(performances_m1))\n",
    "print('performances of simulations of m2 is {}'.format(performances_m2))\n",
    "\n",
    "performances_m1 = (simulated_actions_m1==correct[i_subj_example, i_session_example]).mean(axis=0)\n",
    "performances_m2 = (simulated_actions_m2==correct[i_subj_example, i_session_example]).mean(axis=0)\n",
    "performances_subject = (actions[i_subj_example, i_session_example] == correct[i_subj_example, i_session_example])\n",
    "plt.figure(figsize=(16,4))\n",
    "plt.plot(performances_m1, label='counting model')\n",
    "plt.plot(performances_m2, label='drifting model')\n",
    "plt.plot(performances_subject, label='humans')\n",
    "plt.xlabel('trial')\n",
    "plt.ylabel('performance')\n",
    "plt.gca().legend()\n",
    "hide_toggle()"
   ]
  },
  {
   "cell_type": "markdown",
   "metadata": {},
   "source": [
    "### Q4: Simulate the models and plot model-free metrics\n",
    "TODO: for each subject, simulate the two models N=50 times given the ML parameters <br>\n",
    "TODO: compare the average performance of subjects with the averaged performances of the simulations. Do they differ? perform wilcoxon for statistics <br>\n",
    "TODO: Plot the performance as a function of the trial id for the averaged simulations and for the averaged human subjects. Can we dissociate the models based on this second metric?"
   ]
  },
  {
   "cell_type": "code",
   "execution_count": 374,
   "metadata": {},
   "outputs": [
    {
     "data": {
      "text/html": [
       "\n",
       "        <script>\n",
       "            function code_toggle_10033835175224076176() {\n",
       "                $('div.cell.code_cell.rendered.selected').find('div.input').toggle();\n",
       "            }\n",
       "\n",
       "            \n",
       "        </script>\n",
       "\n",
       "        <a href=\"javascript:code_toggle_10033835175224076176()\">Toggle show/hide</a>\n",
       "    "
      ],
      "text/plain": [
       "<IPython.core.display.HTML object>"
      ]
     },
     "execution_count": 374,
     "metadata": {},
     "output_type": "execute_result"
    }
   ],
   "source": [
    "nb_sim = 50\n",
    "simulated_actions_m1 = np.zeros([nb_sim, nb_subjects, nb_trials])\n",
    "simulated_actions_m2 = np.zeros([nb_sim, nb_subjects, nb_trials])\n",
    "for i_sub in range(nb_subjects):\n",
    "    ...# write here\n",
    "\n",
    "# write here for plot\n",
    "hide_toggle()"
   ]
  },
  {
   "cell_type": "markdown",
   "metadata": {},
   "source": [
    "## BAYESIAN APPROACH"
   ]
  },
  {
   "cell_type": "markdown",
   "metadata": {},
   "source": [
    "### How to compute BIC and AIC for the one example subject\n",
    "This requires computing the maximum likelihood over both sessions (no cross-validation is necessary as the BIC and AIC penalize for the number of parameters)"
   ]
  },
  {
   "cell_type": "code",
   "execution_count": 396,
   "metadata": {},
   "outputs": [
    {
     "name": "stdout",
     "output_type": "stream",
     "text": [
      "Model M1 for example subj 0\n",
      "BIC is : -70.63428742622803\n",
      "AIC is : -68.985128742954\n",
      "\n",
      "Model M2 for example subj 0\n",
      "BIC is : -26.586946737683082\n",
      "AIC is : -24.937788054409065\n"
     ]
    },
    {
     "data": {
      "text/html": [
       "\n",
       "        <script>\n",
       "            function code_toggle_3740652091559957917() {\n",
       "                $('div.cell.code_cell.rendered.selected').find('div.input').toggle();\n",
       "            }\n",
       "\n",
       "            \n",
       "        </script>\n",
       "\n",
       "        <a href=\"javascript:code_toggle_3740652091559957917()\">Toggle show/hide</a>\n",
       "    "
      ],
      "text/plain": [
       "<IPython.core.display.HTML object>"
      ]
     },
     "execution_count": 396,
     "metadata": {},
     "output_type": "execute_result"
    }
   ],
   "source": [
    "i_subj_example = 0\n",
    "\n",
    "# model m1\n",
    "act, obs_r = actions[i_subj_example, i_session_example], \\\n",
    "                    obs_rewards[i_subj_example, i_session_example] # get subjects action and reward\n",
    "initial_points, res = [0.1, 0.2, 0.4, 0.8, 0.], None\n",
    "for init in initial_points: # try multiple initializations\n",
    "    candidate_res = minimize(negLogLikelihood_m1, [init], args=(act, obs_r), method='L-BFGS-B', tol=1e-6)\n",
    "    if res is None or candidate_res.fun < res.fun:\n",
    "        res = candidate_res # replace old result if it is None (first step) or if the candidate result is better\n",
    "aic_1, bic_1 = -res.fun - 1, -res.fun - 1 * np.log(nb_sessions * nb_trials)/2.\n",
    "print('Model M1 for example subj {}'.format(i_subj_example))\n",
    "print('BIC is : {}'.format(bic_1))\n",
    "print('AIC is : {}'.format(aic_1))\n",
    "print('')\n",
    "# model m2\n",
    "act, obs_r = actions[i_subj_example, i_session_example], \\\n",
    "                    obs_rewards[i_subj_example, i_session_example] # get subjects action and reward\n",
    "initial_points, res = [[0.1, 1], [0.2, 4], [0.4, 3], [0.8, 10]], None\n",
    "for init in initial_points: # try multiple initializations\n",
    "    candidate_res = minimize(negLogLikelihood_m2, init, args=(act, obs_r), method='L-BFGS-B', tol=1e-6)\n",
    "    if res is None or candidate_res.fun < res.fun:\n",
    "        res = candidate_res # replace old result if it is None (first step) or if the candidate result is better\n",
    "alpha_example_2, beta_example_2 = res.x\n",
    "aic_2, bic_2 = -res.fun - 1, -res.fun - 1 * np.log(nb_sessions * nb_trials)/2.\n",
    "print('Model M2 for example subj {}'.format(i_subj_example))\n",
    "print('BIC is : {}'.format(bic_2))\n",
    "print('AIC is : {}'.format(aic_2))\n",
    "\n",
    "hide_toggle()"
   ]
  },
  {
   "cell_type": "markdown",
   "metadata": {},
   "source": [
    "### Q5: Obtain the BIC and AIC for all subjects (see previous cell for example subject)\n",
    "TODO: obtain the BICs and AIC <br>\n",
    "TODO: fixed-effect analysis - compute the Bayes factor in favor of each model <br>\n",
    "TODO: random-effect analysis - Bayesian model selection <br>\n",
    "TODO: do fixed-effect and random-effect analysis agree? do they agree with the frequentist CV method?"
   ]
  },
  {
   "cell_type": "code",
   "execution_count": 402,
   "metadata": {},
   "outputs": [
    {
     "name": "stdout",
     "output_type": "stream",
     "text": [
      "The winning model in fixed-effect is ... with a BF = ...\n",
      "The winning model in random-effect is ... with an exceendance probability = ...\n"
     ]
    },
    {
     "data": {
      "text/html": [
       "\n",
       "        <script>\n",
       "            function code_toggle_15543112584389245274() {\n",
       "                $('div.cell.code_cell.rendered.selected').find('div.input').toggle();\n",
       "            }\n",
       "\n",
       "            \n",
       "        </script>\n",
       "\n",
       "        <a href=\"javascript:code_toggle_15543112584389245274()\">Toggle show/hide</a>\n",
       "    "
      ],
      "text/plain": [
       "<IPython.core.display.HTML object>"
      ]
     },
     "execution_count": 402,
     "metadata": {},
     "output_type": "execute_result"
    },
    {
     "data": {
      "image/png": "[encoded data removed]",
      "text/plain": [
       "<Figure size 1152x288 with 2 Axes>"
      ]
     },
     "metadata": {
      "needs_background": "light"
     },
     "output_type": "display_data"
    }
   ],
   "source": [
    "AICs, BICs = np.zeros([nb_subjects, 2]), np.zeros([nb_subjects, 2]) # second dimension is for m1 and m2\n",
    "for i_subj in range(nb_subjects):\n",
    "    ...\n",
    "\n",
    "bayesFactor = np.sum(np.diff(BICs)) # for fixed-effect analysis\n",
    "# for random-effect analysis returns counts, model frequencies and exceedance probabilities\n",
    "alpha, expr, xp = BMS_dirichlet(BICs)\n",
    "plt.figure(figsize=(16, 4))\n",
    "plt.subplot(1, 2, 1)\n",
    "plt.bar(range(1), bayesFactor)\n",
    "plt.xticks([0,], ['BayesFactor',])\n",
    "plt.subplot(1, 2, 2)\n",
    "plt.bar(range(2), xp, alpha=0.5)\n",
    "plt.gca().set_ylim(0, 1)\n",
    "plt.xticks([0, 1], ['m1', 'm2'])\n",
    "plt.ylabel('Exceendance probabilities')\n",
    "plt.xlabel('Random Effect')\n",
    "\n",
    "print('The winning model in fixed-effect is {} with a BF = {}'.format('...', '...'))\n",
    "print('The winning model in random-effect is {} with an exceendance probability = {}'.format('...', '...'))\n",
    "hide_toggle()"
   ]
  },
  {
   "cell_type": "markdown",
   "metadata": {},
   "source": [
    "### How to obtain the posterior distribution with Metropolis-Hasting for the example subject"
   ]
  },
  {
   "cell_type": "code",
   "execution_count": 398,
   "metadata": {},
   "outputs": [
    {
     "name": "stdout",
     "output_type": "stream",
     "text": [
      "Mean of posterior distribution for example subject 0 is 0.029\n",
      "Standard deviation of posterior distribution for example subject 0 is 0.011\n"
     ]
    },
    {
     "data": {
      "text/html": [
       "\n",
       "        <script>\n",
       "            function code_toggle_652666370845033483() {\n",
       "                $('div.cell.code_cell.rendered.selected').find('div.input').toggle();\n",
       "            }\n",
       "\n",
       "            \n",
       "        </script>\n",
       "\n",
       "        <a href=\"javascript:code_toggle_652666370845033483()\">Toggle show/hide</a>\n",
       "    "
      ],
      "text/plain": [
       "<IPython.core.display.HTML object>"
      ]
     },
     "execution_count": 398,
     "metadata": {},
     "output_type": "execute_result"
    },
    {
     "data": {
      "image/png": "[encoded data removed]",
      "text/plain": [
       "<Figure size 432x288 with 1 Axes>"
      ]
     },
     "metadata": {
      "needs_background": "light"
     },
     "output_type": "display_data"
    }
   ],
   "source": [
    "def metropolis_hasting(get_loglkd, nb_samples=1000):\n",
    "    samples = np.zeros(nb_samples)\n",
    "    for i in range(1, nb_samples):\n",
    "        candidate = np.random.normal(samples[i-1], scale=0.05)\n",
    "        logalpha = get_loglkd(candidate) - get_loglkd(samples[i-1]) + norm.logpdf(samples[i-1]) - norm.logpdf(candidate)\n",
    "        if np.log(np.random.rand()) < logalpha:\n",
    "            samples[i] = candidate\n",
    "        else:\n",
    "            samples[i] = samples[i-1]\n",
    "    return samples\n",
    "\n",
    "get_loglkd = lambda x: -negLogLikelihood_m1(x, actions[i_subj_example], obs_rewards[i_subj_example])\n",
    "posterior_samples = metropolis_hasting(get_loglkd)\n",
    "posterior_samples = posterior_samples[-int(len(posterior_samples)/2):] # take out burn-in period\n",
    "\n",
    "plt.figure()\n",
    "plt.hist(posterior_samples)\n",
    "plt.ylabel('posterior')\n",
    "plt.xlabel('beta parameters')\n",
    "print('Mean of posterior distribution for example subject {} is {}'.format(i_subj_example, np.round(np.mean(posterior_samples), 3)))\n",
    "print('Standard deviation of posterior distribution for example subject {} is {}'.format(i_subj_example, np.round(np.std(posterior_samples), 3)))\n",
    "hide_toggle()"
   ]
  },
  {
   "cell_type": "markdown",
   "metadata": {},
   "source": [
    "### Q6: Obtain the posterior distribution\n",
    "TODO: for model m1, computer the posterior distribution with M-H for each subject. How peaked are the posterior distribution? Do the standard deviations of the posteriors correlates with the AIC across subjects?"
   ]
  },
  {
   "cell_type": "code",
   "execution_count": 399,
   "metadata": {},
   "outputs": [],
   "source": [
    "nb_samples        = 1000\n",
    "posterior_samples = np.zeros([nb_subjects, nb_samples])\n",
    "for i_subj in range(nb_subjects):\n",
    "    ..."
   ]
  },
  {
   "cell_type": "markdown",
   "metadata": {},
   "source": [
    "### Q7: Perform model recovery for BIC\n",
    "TODO: simulate each model N=50 times with the subjects parameters <br>\n",
    "TODO: fit m1 and m2 to these models through BIC <br>\n",
    "TODO: perform random effect analysis to quantify how well each model explains the simulated behavior <br>\n",
    "TODO: plot confusion (model recovery) matrices with imshow"
   ]
  },
  {
   "cell_type": "code",
   "execution_count": null,
   "metadata": {},
   "outputs": [],
   "source": []
  }
 ],
 "metadata": {
  "kernelspec": {
   "display_name": "Python 3",
   "language": "python",
   "name": "python3"
  },
  "language_info": {
   "codemirror_mode": {
    "name": "ipython",
    "version": 3
   },
   "file_extension": ".py",
   "mimetype": "text/x-python",
   "name": "python",
   "nbconvert_exporter": "python",
   "pygments_lexer": "ipython3",
   "version": "3.8.5"
  }
 },
 "nbformat": 4,
 "nbformat_minor": 4
}
